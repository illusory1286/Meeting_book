{
 "cells": [
  {
   "cell_type": "code",
   "execution_count": 7,
   "metadata": {},
   "outputs": [
    {
     "name": "stdout",
     "output_type": "stream",
     "text": [
      "Hello\n",
      "Hi\n",
      "asdasdasd\n",
      "Hello123\n",
      "Hi123\n",
      "Hello456\n",
      "Hi456\n"
     ]
    }
   ],
   "source": [
    "def saya():\n",
    "    print(\"Hello\")\n",
    "    print(\"Hi\")\n",
    "    print(\"asdasdasd\")\n",
    "saya()\n",
    "\n",
    "def sayb():\n",
    "    print(\"Hello123\")\n",
    "    print(\"Hi123\")\n",
    "sayb()\n",
    "\n",
    "def sayc():\n",
    "    print(\"Hello456\")\n",
    "    print(\"Hi456\")\n",
    "sayc()"
   ]
  },
  {
   "cell_type": "code",
   "execution_count": 2,
   "metadata": {},
   "outputs": [
    {
     "name": "stdout",
     "output_type": "stream",
     "text": [
      "hi feng good\n"
     ]
    }
   ],
   "source": [
    "name=input(\"輸入name:\")\n",
    "print(\"hi\",name,\"good\")"
   ]
  },
  {
   "cell_type": "code",
   "execution_count": 11,
   "metadata": {},
   "outputs": [
    {
     "name": "stdout",
     "output_type": "stream",
     "text": [
      "%s偶數 4\n"
     ]
    }
   ],
   "source": [
    "# \"\"\"練習題 假設你正在開發演唱會座位區分配，每個參賽者都會有一個編號，根據奇數偶數的特性\"\"\"\n",
    "# \"\"\"奇數編號的參加者將被引導到左側的座位區，偶數編號的參加者將被引導到右側的座位區。\"\"\"\n",
    "# \"\"\"你的任務是根據參加者提供的編號，告訴他們應該去哪個座位區。\"\"\"\n",
    "\n",
    "# \"\"\"\n",
    "# 程式要求\n",
    "# 1.提示使用者輸入他們的門票編號。\n",
    "# 2.判斷該編號是奇數還是偶數。\n",
    "# 3.根據奇偶性，輸出參加者應前往的座位區。\n",
    "# \"\"\"\n",
    "\n",
    "num1=int(input(\"輸入整數：\"))\n",
    "# print(type(num))\n",
    "if num1%2 == 0:\n",
    "    print(f\"編號{num1},偶數\")\n",
    "else:\n",
    "    print(\"奇數\") \n"
   ]
  },
  {
   "cell_type": "code",
   "execution_count": 13,
   "metadata": {},
   "outputs": [
    {
     "name": "stdout",
     "output_type": "stream",
     "text": [
      "elppa\n"
     ]
    }
   ],
   "source": [
    "num2= input(\"輸入反轉文字\")\n",
    "re_text=num2[::-1]\n",
    "print(re_text)"
   ]
  },
  {
   "cell_type": "code",
   "execution_count": 17,
   "metadata": {},
   "outputs": [
    {
     "name": "stdout",
     "output_type": "stream",
     "text": [
      "4\n"
     ]
    }
   ],
   "source": [
    "\"\"\"練習題 字串反轉\"\"\"\n",
    "# a = [1,2,3,4,5,6]\n",
    "# 請使用 [::-1], [2::-1], [-3] 依序實作\n",
    "# b =\n",
    "a= [1,2,3,4,5,6]\n",
    "# b=a[::-1]\n",
    "# b=a[4::-1]\n",
    "b=a[-3]\n",
    "print(b)"
   ]
  },
  {
   "cell_type": "code",
   "execution_count": 27,
   "metadata": {},
   "outputs": [],
   "source": [
    "# 華氏要換算成攝氏時，要先減32後，再乘以5/9\n",
    "temp01=float(input(\"輸入華氏\"))\n",
    "result=((temp01-32)*(5/9))\n",
    "print(f\"攝氏={round(result,2)}\")"
   ]
  }
 ],
 "metadata": {
  "kernelspec": {
   "display_name": "envMeetingBook",
   "language": "python",
   "name": "python3"
  },
  "language_info": {
   "codemirror_mode": {
    "name": "ipython",
    "version": 3
   },
   "file_extension": ".py",
   "mimetype": "text/x-python",
   "name": "python",
   "nbconvert_exporter": "python",
   "pygments_lexer": "ipython3",
   "version": "3.12.2"
  }
 },
 "nbformat": 4,
 "nbformat_minor": 2
}
